{
 "cells": [
  {
   "cell_type": "code",
   "execution_count": 7,
   "id": "03bf8463",
   "metadata": {},
   "outputs": [],
   "source": [
    "import numpy as np\n",
    "import random \n",
    "import math\n",
    "from random import randint\n",
    "import matplotlib.pyplot as plt"
   ]
  },
  {
   "cell_type": "code",
   "execution_count": 9,
   "id": "56882391",
   "metadata": {},
   "outputs": [
    {
     "name": "stdout",
     "output_type": "stream",
     "text": [
      "[[ 1. -1.  1. -1.  1. -1.]\n",
      " [-1.  1. -1.  1. -1.  1.]\n",
      " [ 1. -1.  1. -1.  1. -1.]\n",
      " [-1.  1. -1.  1. -1.  1.]\n",
      " [ 1. -1.  1. -1.  1. -1.]\n",
      " [-1.  1. -1.  1. -1.  1.]]\n",
      "Сумма всех элементов матрицы: -72.0\n"
     ]
    },
    {
     "data": {
      "text/plain": [
       "<matplotlib.image.AxesImage at 0x15d70d3ca60>"
      ]
     },
     "execution_count": 9,
     "metadata": {},
     "output_type": "execute_result"
    },
    {
     "data": {
      "image/png": "[encoded data removed]",
      "text/plain": [
       "<Figure size 432x288 with 1 Axes>"
      ]
     },
     "metadata": {
      "needs_background": "light"
     },
     "output_type": "display_data"
    }
   ],
   "source": [
    "First = P = W = S = S1 = 0\n",
    "T = 0.8\n",
    "r = 6 #Размер матрицы\n",
    "it = 750 #Кол-во итераций\n",
    "k = [-1,1] \n",
    "m = np.zeros((r,r)) #Создание матрицы \n",
    "m1 = 0 #Дублирование матрицы\n",
    "debug = False\n",
    "for i in range(r): #Заполнение матрицы рандомными элементами\n",
    "    for y in range(r):                   \n",
    "        m[i][y] = random.choice(k)     \n",
    "First = m.copy() #Сохранение изначальной матрицы\n",
    "for Count in range(it): \n",
    "    S = S1 = 0 #Сброс сумм матриц\n",
    "    m1 = m.copy() #Дублирование матрицы перед изменением\n",
    "    m1[random.randrange(r)][random.randrange(r)] *= -1 #Меняется случайный элемент на противоположный    \n",
    "    for k in range(r):        \n",
    "        for i in range(r): \n",
    "            S += m[k][i]*m[k][i-1] + m[k-1][i]*m[k][i] #Сумма для изначальной матрицы\n",
    "            S1 += m1[k][i]*m1[k][i-1] + m1[k-1][i]*m1[k][i] #Сумма для новой матрицы        \n",
    "    delta = (S1 - S) #Разность сумм матриц\n",
    "    if delta <=0:\n",
    "        m = m1.copy() #Принимаем новую конфигурацию\n",
    "    else:\n",
    "        W = math.exp(-delta/T)\n",
    "        P = random.uniform(0, 1) #Случайное число с плавающей точкой\n",
    "        if W >= P:\n",
    "            First = m.copy() #Заменяем изначальную наиболее удавшейся матрицей\n",
    "        elif W < 0:         \n",
    "            m = First.copy() #Возвращение к изначальной матрице\n",
    "    if Count == it-1:\n",
    "        if debug == True:\n",
    "            for i in range(r): \n",
    "                for y in range(r):                   \n",
    "                    if m[i,y] == -1:\n",
    "                        m[i,y] = 0\n",
    "        print(m) #Вывод матрицы на финальной итерации\n",
    "        print('Сумма всех элементов матрицы:', S)\n",
    "plt.imshow(m)"
   ]
  },
  {
   "cell_type": "code",
   "execution_count": null,
   "id": "5a0b636f",
   "metadata": {},
   "outputs": [],
   "source": []
  }
 ],
 "metadata": {
  "kernelspec": {
   "display_name": "Python 3 (ipykernel)",
   "language": "python",
   "name": "python3"
  },
  "language_info": {
   "codemirror_mode": {
    "name": "ipython",
    "version": 3
   },
   "file_extension": ".py",
   "mimetype": "text/x-python",
   "name": "python",
   "nbconvert_exporter": "python",
   "pygments_lexer": "ipython3",
   "version": "3.9.7"
  }
 },
 "nbformat": 4,
 "nbformat_minor": 5
}
