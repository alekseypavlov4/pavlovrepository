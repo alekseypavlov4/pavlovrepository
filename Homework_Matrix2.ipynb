{
 "cells": [
  {
   "cell_type": "code",
   "execution_count": 24,
   "id": "3ee7d24c",
   "metadata": {},
   "outputs": [],
   "source": [
    "import math\n",
    "import numpy as np\n",
    "import random \n",
    "import matplotlib.pyplot as plt"
   ]
  },
  {
   "cell_type": "code",
   "execution_count": 27,
   "id": "bcc37fe0",
   "metadata": {},
   "outputs": [
    {
     "name": "stdout",
     "output_type": "stream",
     "text": [
      "Заполнение матрицы №1\n",
      "шахматная матрица №2: 1\n",
      "Порядок матрицы: 4\n",
      "Кол-во итераций: 6\n",
      "Итерация № 1\r"
     ]
    },
    {
     "data": {
      "image/png": "[encoded data removed]",
      "text/plain": [
       "<Figure size 432x288 with 1 Axes>"
      ]
     },
     "metadata": {
      "needs_background": "light"
     },
     "output_type": "display_data"
    },
    {
     "name": "stdout",
     "output_type": "stream",
     "text": [
      "Итерация № 2\r"
     ]
    },
    {
     "data": {
      "image/png": "[encoded data removed]",
      "text/plain": [
       "<Figure size 432x288 with 1 Axes>"
      ]
     },
     "metadata": {
      "needs_background": "light"
     },
     "output_type": "display_data"
    },
    {
     "name": "stdout",
     "output_type": "stream",
     "text": [
      "Итерация № 3\r"
     ]
    },
    {
     "data": {
      "image/png": "[encoded data removed]",
      "text/plain": [
       "<Figure size 432x288 with 1 Axes>"
      ]
     },
     "metadata": {
      "needs_background": "light"
     },
     "output_type": "display_data"
    },
    {
     "name": "stdout",
     "output_type": "stream",
     "text": [
      "Итерация № 4\r"
     ]
    },
    {
     "data": {
      "image/png": "[encoded data removed]",
      "text/plain": [
       "<Figure size 432x288 with 1 Axes>"
      ]
     },
     "metadata": {
      "needs_background": "light"
     },
     "output_type": "display_data"
    },
    {
     "name": "stdout",
     "output_type": "stream",
     "text": [
      "Итерация № 5\r"
     ]
    },
    {
     "data": {
      "image/png": "[encoded data removed]",
      "text/plain": [
       "<Figure size 432x288 with 1 Axes>"
      ]
     },
     "metadata": {
      "needs_background": "light"
     },
     "output_type": "display_data"
    },
    {
     "name": "stdout",
     "output_type": "stream",
     "text": [
      "Итерация № 6\r"
     ]
    },
    {
     "data": {
      "image/png": "[encoded data removed]",
      "text/plain": [
       "<Figure size 432x288 with 1 Axes>"
      ]
     },
     "metadata": {
      "needs_background": "light"
     },
     "output_type": "display_data"
    },
    {
     "data": {
      "text/plain": [
       "<matplotlib.pyplot._IoffContext at 0x15c80303340>"
      ]
     },
     "execution_count": 27,
     "metadata": {},
     "output_type": "execute_result"
    },
    {
     "data": {
      "text/plain": [
       "<Figure size 432x288 with 0 Axes>"
      ]
     },
     "metadata": {},
     "output_type": "display_data"
    }
   ],
   "source": [
    "T=1\n",
    "main=0\n",
    "choice=[1,-1]\n",
    "while True:\n",
    "    qwerty=int(input('Заполнение матрицы №1\\nшахматная матрица №2: '))\n",
    "    if qwerty==1 or qwerty==2 :\n",
    "        break\n",
    "    else:\n",
    "        print ('-error')\n",
    "        print('-ввод только 1 или 2')\n",
    "        print (' ')\n",
    "n=int(input('Порядок матрицы: '))\n",
    "repeat=int(input('Кол-во итераций: '))\n",
    "\n",
    "choice_namber=range(n) # Список для координат случайного выбора матрицы e\n",
    "E=np.zeros((n,n))      # Заполнение матрицы числами -1 и 1 \n",
    "for i in range(n):\n",
    "    for j in range(n):\n",
    "        E[i][j]=random.choice(choice)      \n",
    "main=E.copy()\n",
    "\n",
    "plt.ion()\n",
    "for m in range(repeat): \n",
    "    print('Итерация №' ,m+1, end='\\r')\n",
    "    s1=0\n",
    "    s2=0\n",
    "    number_1=random.choice(choice_namber) # Выбор координаты х для замены в матрицы е \n",
    "    number_2=random.choice(choice_namber) # Выбор координаты у для замены в матрицы е\n",
    "    e=E.copy() # Копия матрицы е \n",
    "    e[number_1][number_2]*=-1 # Случайная замена\n",
    "    \n",
    "    for i in range(n):        # Сумма элементов матрицы\n",
    "        for j in range(n):\n",
    "            s1+=E[i][j]*E[i][j-1]+E[i-1][j]*E[i][j] \n",
    "            s2+=e[i][j]*e[i][j-1]+e[i-1][j]*e[i][j] \n",
    "    if operation==1:\n",
    "        delta=-1*(s2-s1) # Разность сумм матриц * -1\n",
    "    else:\n",
    "        delta=(s2-s1)    # Разность сумм матриц\n",
    "        \n",
    "    if (delta<=0):  # Замена Е старой на е новую\n",
    "        E=e.copy()\n",
    "    elif (delta>0): # Мат. дейсвия \n",
    "        W=math.exp(-delta/T)\n",
    "        P=random.random() \n",
    "        if W>=P:    # Е остается без изменений, main сохраняет значение E\n",
    "            main=E.copy()\n",
    "        elif W<0:   # Е принимает значение самой первой матрицы \n",
    "            E=main.copy()\n",
    "            \n",
    "    plt.clf()       # Графическое отображение\n",
    "    plt.imshow(E)\n",
    "    plt.draw()\n",
    "    plt.show()\n",
    "    plt.gcf().canvas.flush_events()\n",
    "plt.ioff() "
   ]
  },
  {
   "cell_type": "code",
   "execution_count": null,
   "id": "80162ce9",
   "metadata": {},
   "outputs": [],
   "source": []
  }
 ],
 "metadata": {
  "kernelspec": {
   "display_name": "Python 3 (ipykernel)",
   "language": "python",
   "name": "python3"
  },
  "language_info": {
   "codemirror_mode": {
    "name": "ipython",
    "version": 3
   },
   "file_extension": ".py",
   "mimetype": "text/x-python",
   "name": "python",
   "nbconvert_exporter": "python",
   "pygments_lexer": "ipython3",
   "version": "3.9.7"
  }
 },
 "nbformat": 4,
 "nbformat_minor": 5
}
