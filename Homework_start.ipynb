{
 "cells": [
  {
   "cell_type": "code",
   "execution_count": 7,
   "id": "7d136041",
   "metadata": {},
   "outputs": [
    {
     "name": "stdout",
     "output_type": "stream",
     "text": [
      "False\n",
      "True\n",
      "True\n"
     ]
    }
   ],
   "source": [
    "print(19 % 4 != 300 / 10 / 10 and False)\n",
    "print(-(1 ** 2 ) < 2 ** 0 and 10 % 10 <= 20 - 10 * 2)\n",
    "print(2 ** 3 == 108 % 100 or ' Cleese ' == ' King Arthur ')"
   ]
  },
  {
   "cell_type": "code",
   "execution_count": 10,
   "id": "ffaa7917",
   "metadata": {},
   "outputs": [
    {
     "name": "stdout",
     "output_type": "stream",
     "text": [
      "Введите фразу:zxc\n",
      "cxz"
     ]
    }
   ],
   "source": [
    "i = int = 0\n",
    "user = input(\"Введите фразу:\")\n",
    "print(user[len(user)-1], end=\"\")\n",
    "while (i != len(user)-2):    \n",
    "    i+=1\n",
    "    print(user[i], end=\"\")\n",
    "print(user[0],end=\"\")"
   ]
  },
  {
   "cell_type": "code",
   "execution_count": 5,
   "id": "afb18ec8",
   "metadata": {},
   "outputs": [
    {
     "name": "stdout",
     "output_type": "stream",
     "text": [
      "3\n",
      "6\n"
     ]
    }
   ],
   "source": [
    "a = input()\n",
    "a = int(a)\n",
    "def fac(n):\n",
    "    if n == 0:\n",
    "        return 1\n",
    "    return fac(n-1) * n\n",
    "print(fac(a))"
   ]
  },
  {
   "cell_type": "code",
   "execution_count": 6,
   "id": "75268164",
   "metadata": {},
   "outputs": [
    {
     "name": "stdout",
     "output_type": "stream",
     "text": [
      "scissors\n",
      "you lose\n",
      "you =  scissors  random =  rock\n"
     ]
    }
   ],
   "source": [
    "import random\n",
    "a = input()\n",
    "choice_list = ['rock', 'paper', 'scissors']\n",
    "b = random.choice(choice_list)\n",
    "if (a == 'rock') and (b == 'paper'):\n",
    "    print('you lose')\n",
    "else:\n",
    "    if (a == 'paper') and (b == 'rock'):\n",
    "        print('you win')\n",
    "    else:\n",
    "        if (a == 'paper') and (b == 'scissors'):\n",
    "            print('you lose')\n",
    "        else:\n",
    "            if (a == 'scissors') and (b == 'paper'):\n",
    "                print('you win')\n",
    "            else:\n",
    "                if (a == 'scissors') and (b == 'rock'):\n",
    "                    print('you lose')\n",
    "                else:\n",
    "                    if (a == 'rock') and (b == 'scissors'):\n",
    "                        print('you win')\n",
    "                    else:\n",
    "                        if a == b:\n",
    "                            print('draw')\n",
    "print('you = ',a,' random = ',b)"
   ]
  },
  {
   "cell_type": "code",
   "execution_count": 8,
   "id": "ddf16d74",
   "metadata": {},
   "outputs": [
    {
     "name": "stdout",
     "output_type": "stream",
     "text": [
      "1\n",
      "2\n",
      "[[87, 8]]\n"
     ]
    }
   ],
   "source": [
    "from random import randint\n",
    "b = int(input()) # Массивы\n",
    "a = int(input()) # Элементы\n",
    "Bigmas = [[i for i in range(a)]]\n",
    "for i in range (b-1):\n",
    "    Bigmas += [[i for i in range(a)]]\n",
    "for T in range (b):\n",
    "    for Y in range(a):\n",
    "        Bigmas[T][Y] = randint(0,100)   \n",
    "print(Bigmas)"
   ]
  },
  {
   "cell_type": "code",
   "execution_count": 9,
   "id": "b06e9bd4",
   "metadata": {},
   "outputs": [
    {
     "name": "stdout",
     "output_type": "stream",
     "text": [
      "5\n",
      "[[ 1. -1.  1. -1.  1.]\n",
      " [-1.  1. -1. -1.  1.]\n",
      " [ 1.  1.  1. -1.  1.]\n",
      " [-1.  1.  1. -1. -1.]\n",
      " [ 1.  1.  1.  1.  1.]]\n",
      "2.0\n"
     ]
    }
   ],
   "source": [
    "import numpy as np\n",
    "import random \n",
    "m=[1,-1] \n",
    "summ=0\n",
    "l=0\n",
    "n=int(input())\n",
    "a=np.zeros((n,n))\n",
    "for i in range(n):\n",
    "    for j in range(n):\n",
    "        a[i,j]=random.choice(m)\n",
    "print(a)\n",
    "for i in range(n):\n",
    "    for j in range(n):\n",
    "        summ+=a[i,j]*a[i,j-1]\n",
    "        l+=a[i-1,j]*a[i,j]        \n",
    "print(summ+l)"
   ]
  },
  {
   "cell_type": "code",
   "execution_count": null,
   "id": "e2b04e65",
   "metadata": {},
   "outputs": [],
   "source": []
  }
 ],
 "metadata": {
  "kernelspec": {
   "display_name": "Python 3 (ipykernel)",
   "language": "python",
   "name": "python3"
  },
  "language_info": {
   "codemirror_mode": {
    "name": "ipython",
    "version": 3
   },
   "file_extension": ".py",
   "mimetype": "text/x-python",
   "name": "python",
   "nbconvert_exporter": "python",
   "pygments_lexer": "ipython3",
   "version": "3.9.7"
  }
 },
 "nbformat": 4,
 "nbformat_minor": 5
}
